{
  "nbformat": 4,
  "nbformat_minor": 0,
  "metadata": {
    "colab": {
      "name": "Ahmad Rabah 2-3 Lists class notes.ipynb",
      "provenance": [],
      "collapsed_sections": [],
      "authorship_tag": "ABX9TyP4pRHYIHZzc2/cUuPnflLR",
      "include_colab_link": true
    },
    "kernelspec": {
      "name": "python3",
      "display_name": "Python 3"
    },
    "language_info": {
      "name": "python"
    }
  },
  "cells": [
    {
      "cell_type": "markdown",
      "metadata": {
        "id": "view-in-github",
        "colab_type": "text"
      },
      "source": [
        "<a href=\"https://colab.research.google.com/github/ahmadr9279/Data-Analytics-course/blob/main/Ahmad_Rabah_2_3_Lists_class_notes.ipynb\" target=\"_parent\"><img src=\"https://colab.research.google.com/assets/colab-badge.svg\" alt=\"Open In Colab\"/></a>"
      ]
    },
    {
      "cell_type": "markdown",
      "source": [
        "Making a list"
      ],
      "metadata": {
        "id": "ot90nO8paKEu"
      }
    },
    {
      "cell_type": "code",
      "source": [
        "movies = ['Spiderman','Clueless', 'The Goonies','Die Hard']\n",
        "print(movies)\n",
        "print(movies[1])\n",
        "print(movies[-1])\n",
        "print(movies[-2])\n",
        "print(movies[0].lower())\n",
        "print(movies[1].upper())"
      ],
      "metadata": {
        "colab": {
          "base_uri": "https://localhost:8080/"
        },
        "id": "hBokPZaDaQVd",
        "outputId": "d3802739-a4c1-4a1d-cdbd-cc48e0fe4446"
      },
      "execution_count": null,
      "outputs": [
        {
          "output_type": "stream",
          "name": "stdout",
          "text": [
            "['Spiderman', 'Clueless', 'The Goonies', 'Die Hard']\n",
            "Clueless\n",
            "Die Hard\n",
            "The Goonies\n",
            "spiderman\n",
            "CLUELESS\n"
          ]
        }
      ]
    },
    {
      "cell_type": "code",
      "source": [
        "message = 'My favorite movie is '+movies[3].upper()+'!'\n",
        "print(message)"
      ],
      "metadata": {
        "colab": {
          "base_uri": "https://localhost:8080/"
        },
        "id": "PvVss46afQSs",
        "outputId": "fb4622d6-2dd3-41ae-99c1-8baf18189dee"
      },
      "execution_count": null,
      "outputs": [
        {
          "output_type": "stream",
          "name": "stdout",
          "text": [
            "My favorite movie is DIE HARD!\n"
          ]
        }
      ]
    },
    {
      "cell_type": "code",
      "source": [
        "friend = ['tommy','bobby','henry']\n",
        "print(friend[0])\n",
        "print(friend[1])\n",
        "print(friend[2])\n",
        "print('Hello '+friend[0].title()+'! How are you doing today?')\n",
        "print('Wassup '+friend[1].title()+'! How is it going man!')\n",
        "print('Hi '+friend[2].title()+'! What are you up to today!')"
      ],
      "metadata": {
        "colab": {
          "base_uri": "https://localhost:8080/"
        },
        "id": "HJEuA3Snf9Ne",
        "outputId": "cc6b6102-1d02-4058-cafe-d576ec9f5be3"
      },
      "execution_count": null,
      "outputs": [
        {
          "output_type": "stream",
          "name": "stdout",
          "text": [
            "tommy\n",
            "bobby\n",
            "henry\n",
            "Hello Tommy! How are you doing today?\n",
            "Wassup Bobby! How is it going man!\n",
            "Hi Henry! What are you up to today!\n"
          ]
        }
      ]
    },
    {
      "cell_type": "code",
      "source": [
        "fav_foods = ['apple pie','chocolate chip cookies', 'french fries']\n",
        "print('my favorite foods are '+fav_foods[0]+', '+fav_foods[1]+', and '+fav_foods[2])\n",
        "fav_foods.append('bananas')\n",
        "print(fav_foods)\n",
        "del fav_foods[0]\n",
        "print(fav_foods)\n",
        "fav_foods.insert(0,'Vanilla Ice cream')\n",
        "print(fav_foods)"
      ],
      "metadata": {
        "colab": {
          "base_uri": "https://localhost:8080/"
        },
        "id": "z8cM5uQqyVvc",
        "outputId": "e7545e08-5937-4252-8997-8ff52acd14c8"
      },
      "execution_count": null,
      "outputs": [
        {
          "output_type": "stream",
          "name": "stdout",
          "text": [
            "my favorite foods are apple pie, chocolate chip cookies, and french fries\n",
            "['apple pie', 'chocolate chip cookies', 'french fries', 'bananas']\n",
            "['chocolate chip cookies', 'french fries', 'bananas']\n",
            "['Vanilla Ice cream', 'chocolate chip cookies', 'french fries', 'bananas']\n"
          ]
        }
      ]
    },
    {
      "cell_type": "code",
      "source": [
        "travel = ['Jordan','Malaysia','Florida','California','Hawaii']\n",
        "print(travel)\n",
        "travel.sort()\n",
        "print(travel)\n",
        "travel.sort(reverse=True)\n",
        "print(travel)"
      ],
      "metadata": {
        "colab": {
          "base_uri": "https://localhost:8080/"
        },
        "id": "UQZFMGAo658q",
        "outputId": "bbf26470-ea8b-46fe-8431-f338acc05ef4"
      },
      "execution_count": null,
      "outputs": [
        {
          "output_type": "stream",
          "name": "stdout",
          "text": [
            "['Jordan', 'Malaysia', 'Florida', 'California', 'Hawaii']\n",
            "['California', 'Florida', 'Hawaii', 'Jordan', 'Malaysia']\n",
            "['Malaysia', 'Jordan', 'Hawaii', 'Florida', 'California']\n"
          ]
        }
      ]
    }
  ]
}