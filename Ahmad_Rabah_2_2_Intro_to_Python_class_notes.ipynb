{
  "nbformat": 4,
  "nbformat_minor": 0,
  "metadata": {
    "colab": {
      "name": "Ahmad Rabah 2-2 Intro to Python class notes.ipynb",
      "provenance": [],
      "authorship_tag": "ABX9TyM/kpWI4rDZV5qRIWPUiboE",
      "include_colab_link": true
    },
    "kernelspec": {
      "name": "python3",
      "display_name": "Python 3"
    },
    "language_info": {
      "name": "python"
    }
  },
  "cells": [
    {
      "cell_type": "markdown",
      "metadata": {
        "id": "view-in-github",
        "colab_type": "text"
      },
      "source": [
        "<a href=\"https://colab.research.google.com/github/ahmadr9279/Data-Analytics-course/blob/main/Ahmad_Rabah_2_2_Intro_to_Python_class_notes.ipynb\" target=\"_parent\"><img src=\"https://colab.research.google.com/assets/colab-badge.svg\" alt=\"Open In Colab\"/></a>"
      ]
    },
    {
      "cell_type": "code",
      "execution_count": null,
      "metadata": {
        "colab": {
          "base_uri": "https://localhost:8080/"
        },
        "id": "X-ye8u_ZmHRB",
        "outputId": "42b10c3b-d050-49ed-d351-dfede6e52f46"
      },
      "outputs": [
        {
          "output_type": "stream",
          "name": "stdout",
          "text": [
            "hello world\n"
          ]
        }
      ],
      "source": [
        "print('hello world')"
      ]
    },
    {
      "cell_type": "code",
      "source": [
        "message = 'hello world'\n",
        "#this is my message"
      ],
      "metadata": {
        "id": "eKw7WQQMnnM0"
      },
      "execution_count": null,
      "outputs": []
    },
    {
      "cell_type": "code",
      "source": [
        "print(message)"
      ],
      "metadata": {
        "colab": {
          "base_uri": "https://localhost:8080/"
        },
        "id": "g70r5vXdoGnw",
        "outputId": "330aa240-555d-4926-91b3-b6e0e58e933d"
      },
      "execution_count": null,
      "outputs": [
        {
          "output_type": "stream",
          "name": "stdout",
          "text": [
            "hello world\n"
          ]
        }
      ]
    },
    {
      "cell_type": "code",
      "source": [
        "my_message = 'wassup man'\n",
        "print(my_message)"
      ],
      "metadata": {
        "colab": {
          "base_uri": "https://localhost:8080/"
        },
        "id": "lQwcaL65qw_I",
        "outputId": "94a7d753-74ed-4474-8559-f14531df5a70"
      },
      "execution_count": null,
      "outputs": [
        {
          "output_type": "stream",
          "name": "stdout",
          "text": [
            "wassup man\n"
          ]
        }
      ]
    },
    {
      "cell_type": "code",
      "source": [
        "first_name = 'Ahmad'\n",
        "last_name= 'Rabah'\n",
        "full_name = first_name+' '+last_name\n",
        "print(full_name)"
      ],
      "metadata": {
        "colab": {
          "base_uri": "https://localhost:8080/"
        },
        "id": "L0ZL9wuFtmcG",
        "outputId": "e1eb7229-a03a-4929-86c5-97b88775c9fb"
      },
      "execution_count": null,
      "outputs": [
        {
          "output_type": "stream",
          "name": "stdout",
          "text": [
            "Ahmad Rabah\n"
          ]
        }
      ]
    },
    {
      "cell_type": "code",
      "source": [
        "space = \"    hi man  \"\n",
        "space.lstrip()"
      ],
      "metadata": {
        "colab": {
          "base_uri": "https://localhost:8080/",
          "height": 35
        },
        "id": "xhsPrWBTvKkO",
        "outputId": "9fcd851a-521b-43c5-aafc-114d66ee0965"
      },
      "execution_count": null,
      "outputs": [
        {
          "output_type": "execute_result",
          "data": {
            "application/vnd.google.colaboratory.intrinsic+json": {
              "type": "string"
            },
            "text/plain": [
              "'hi man  '"
            ]
          },
          "metadata": {},
          "execution_count": 22
        }
      ]
    },
    {
      "cell_type": "code",
      "source": [
        "the_name = 'Tommy'\n",
        "lower = the_name.lower()\n",
        "print(lower)\n",
        "other_name = 'boy'\n",
        "upper = other_name.upper()\n",
        "print(upper)\n",
        "print()"
      ],
      "metadata": {
        "colab": {
          "base_uri": "https://localhost:8080/"
        },
        "id": "9oPDYSLMxK-i",
        "outputId": "22f3574f-eeb6-45ee-9b23-88731ba4db2d"
      },
      "execution_count": null,
      "outputs": [
        {
          "output_type": "stream",
          "name": "stdout",
          "text": [
            "tommy\n",
            "BOY\n"
          ]
        }
      ]
    },
    {
      "cell_type": "code",
      "source": [
        "step1_name = 'Bobby'\n",
        "print('Hello '+step1_name+', what are you doing after class?')"
      ],
      "metadata": {
        "colab": {
          "base_uri": "https://localhost:8080/"
        },
        "id": "bEXfi8lZxzuS",
        "outputId": "ee2ddaed-8fcb-4872-c87b-104a09d51dfa"
      },
      "execution_count": null,
      "outputs": [
        {
          "output_type": "stream",
          "name": "stdout",
          "text": [
            "Hello Bobby, what are you doing after class?\n"
          ]
        }
      ]
    },
    {
      "cell_type": "code",
      "source": [
        "print(step1_name.lower())\n",
        "print(step1_name.upper())"
      ],
      "metadata": {
        "colab": {
          "base_uri": "https://localhost:8080/"
        },
        "id": "IKXKkanQyDDm",
        "outputId": "17b16e92-a3bf-42f2-ff61-9fe504fbc64a"
      },
      "execution_count": null,
      "outputs": [
        {
          "output_type": "stream",
          "name": "stdout",
          "text": [
            "bobby\n",
            "BOBBY\n"
          ]
        }
      ]
    },
    {
      "cell_type": "code",
      "source": [
        "white_space = '     '+step1_name+'\\t'+step1_name+'     '\n",
        "print(white_space)\n",
        "print(white_space.strip())\n",
        "\n"
      ],
      "metadata": {
        "colab": {
          "base_uri": "https://localhost:8080/"
        },
        "id": "vOuy5wdkyZXf",
        "outputId": "397310eb-8315-4f84-fa89-138f70a7b4d0"
      },
      "execution_count": null,
      "outputs": [
        {
          "output_type": "stream",
          "name": "stdout",
          "text": [
            "     Bobby\tBobby     \n",
            "Bobby\tBobby\n"
          ]
        }
      ]
    },
    {
      "cell_type": "code",
      "source": [
        "print(5+3)\n",
        "print(10-2)\n",
        "print(4*2)\n",
        "print(16/2)"
      ],
      "metadata": {
        "colab": {
          "base_uri": "https://localhost:8080/"
        },
        "id": "D6JU-u5PKOPz",
        "outputId": "3ac47440-4adf-42b4-8720-4cc60a25600e"
      },
      "execution_count": null,
      "outputs": [
        {
          "output_type": "stream",
          "name": "stdout",
          "text": [
            "8\n",
            "8\n",
            "8\n",
            "8.0\n"
          ]
        }
      ]
    },
    {
      "cell_type": "code",
      "source": [
        "fav_num = 4\n",
        "print('hello friend, my favorite number is '+str(fav_num)+'!')"
      ],
      "metadata": {
        "colab": {
          "base_uri": "https://localhost:8080/"
        },
        "id": "Q1uihrF0KbWh",
        "outputId": "cbe6894e-799a-4558-afea-3ac72de03d44"
      },
      "execution_count": null,
      "outputs": [
        {
          "output_type": "stream",
          "name": "stdout",
          "text": [
            "hello friend, my favorite number is 4!\n"
          ]
        }
      ]
    }
  ]
}