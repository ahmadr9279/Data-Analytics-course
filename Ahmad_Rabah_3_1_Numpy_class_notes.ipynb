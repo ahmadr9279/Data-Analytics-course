{
  "nbformat": 4,
  "nbformat_minor": 0,
  "metadata": {
    "colab": {
      "name": "Ahmad Rabah- 3-1 Numpy class notes.ipynb",
      "provenance": [],
      "collapsed_sections": [],
      "include_colab_link": true
    },
    "kernelspec": {
      "name": "python3",
      "display_name": "Python 3"
    },
    "language_info": {
      "name": "python"
    }
  },
  "cells": [
    {
      "cell_type": "markdown",
      "metadata": {
        "id": "view-in-github",
        "colab_type": "text"
      },
      "source": [
        "<a href=\"https://colab.research.google.com/github/ahmadr9279/Data-Analytics-course/blob/main/Ahmad_Rabah_3_1_Numpy_class_notes.ipynb\" target=\"_parent\"><img src=\"https://colab.research.google.com/assets/colab-badge.svg\" alt=\"Open In Colab\"/></a>"
      ]
    },
    {
      "cell_type": "markdown",
      "source": [
        "#Numpy\n",
        "\n",
        "* NumPy Fundamentals\n",
        "* Basic operations \n",
        "* Accessing elements \n",
        "* Indexing techniques\n",
        "* Creating copy and view\n",
        "* Broadcasting techniques\n",
        "* Linear Algebra\n"
      ],
      "metadata": {
        "id": "9QiXj-hBWSsJ"
      }
    },
    {
      "cell_type": "code",
      "source": [
        "# must import numpy to access the library and its functions\n",
        "# frequently abbreviated as np\n",
        "import numpy as np "
      ],
      "metadata": {
        "id": "zqredNKbgakJ"
      },
      "execution_count": null,
      "outputs": []
    },
    {
      "cell_type": "code",
      "execution_count": null,
      "metadata": {
        "id": "qBmNg_j_WPDb",
        "colab": {
          "base_uri": "https://localhost:8080/"
        },
        "outputId": "d05a31d4-1346-4616-976d-acf176c994bf"
      },
      "outputs": [
        {
          "output_type": "stream",
          "name": "stdout",
          "text": [
            "[1 2 3 4 5 6]\n"
          ]
        }
      ],
      "source": [
        "#creating an array called a and storing 6 integers in it\n",
        "#use the np.array() function\n",
        "a = np.array([1, 2, 3, 4, 5, 6])\n",
        "\n",
        "print(a)"
      ]
    },
    {
      "cell_type": "markdown",
      "source": [
        "##Attributes of an array"
      ],
      "metadata": {
        "id": "3eOPBJK9h-TT"
      }
    },
    {
      "cell_type": "code",
      "source": [
        "\n",
        "print(a.ndim) #.ndim returns the number of dimensions (axes) of an array\n",
        "print(a.shape) #.shape returns a tuple showing the size of the array in each dimension\n",
        "print(a.size) #.size returns the total number of elements in the array (dimXshape)\n",
        "print(a.dtype) #.dtype returns data type of elements in the array\n"
      ],
      "metadata": {
        "id": "jNYaubhfg6hK",
        "colab": {
          "base_uri": "https://localhost:8080/"
        },
        "outputId": "09c03c84-cb4c-4aae-d640-22ea5d8b59f4"
      },
      "execution_count": null,
      "outputs": [
        {
          "output_type": "stream",
          "name": "stdout",
          "text": [
            "1\n",
            "(6,)\n",
            "6\n",
            "int64\n"
          ]
        }
      ]
    },
    {
      "cell_type": "code",
      "source": [
        "#These are the exact same code, but the second one has line breaks to show the array better\n",
        "b = np.array([[1, 2, 3, 4], [5, 6, 7, 8], [9, 10, 11, 12]])\n",
        "\n",
        "\n",
        "b = np.array(\n",
        "    [[1, 2, 3, 4], \n",
        "     [5, 6, 7, 8], \n",
        "     [9, 10, 11, 12]])"
      ],
      "metadata": {
        "id": "IAvw5KOtigy_"
      },
      "execution_count": null,
      "outputs": []
    },
    {
      "cell_type": "code",
      "source": [
        "print(b.ndim) #.ndim returns the number of dimensions (axes) of an array\n",
        "print(b.shape) #.shape returns a tuple showing the size of the array in each dimension\n",
        "print(b.size) #.size returns the total number of elements in the array\n",
        "print(b.dtype)"
      ],
      "metadata": {
        "id": "8xTOF8q6ikT2",
        "colab": {
          "base_uri": "https://localhost:8080/"
        },
        "outputId": "67f7f638-ac6a-4b10-c7f5-ec3dfd97beb0"
      },
      "execution_count": null,
      "outputs": [
        {
          "output_type": "stream",
          "name": "stdout",
          "text": [
            "2\n",
            "(3, 4)\n",
            "12\n",
            "int64\n"
          ]
        }
      ]
    },
    {
      "cell_type": "markdown",
      "source": [
        "## Arrays can also include characters"
      ],
      "metadata": {
        "id": "A2Cp4zDAiB4I"
      }
    },
    {
      "cell_type": "code",
      "source": [
        "np_city = np.array(['NYC', 'LA', 'Miami', 'Houston'])\n",
        "np_city_with_state = np.array([['NYC', 'LA', 'Miami', 'Houston'], ['NY', 'CA', 'FL','TX']])\n",
        "\n",
        "print(np_city)\n",
        "print('\\n')\n",
        "print(np_city_with_state)"
      ],
      "metadata": {
        "id": "E51xDRJSiGIW",
        "colab": {
          "base_uri": "https://localhost:8080/"
        },
        "outputId": "f0f0ecbf-b0da-4bef-c8e5-fab6f23b7c64"
      },
      "execution_count": null,
      "outputs": [
        {
          "output_type": "stream",
          "name": "stdout",
          "text": [
            "['NYC' 'LA' 'Miami' 'Houston']\n",
            "\n",
            "\n",
            "[['NYC' 'LA' 'Miami' 'Houston']\n",
            " ['NY' 'CA' 'FL' 'TX']]\n"
          ]
        }
      ]
    },
    {
      "cell_type": "code",
      "source": [
        "#look at number of dimensions\n",
        "print(np_city.ndim)\n",
        "print(np_city_with_state.ndim)"
      ],
      "metadata": {
        "id": "0rHoxOeBj0KW",
        "colab": {
          "base_uri": "https://localhost:8080/"
        },
        "outputId": "b0cd62b7-736d-480c-f0ca-47a7fc14050f"
      },
      "execution_count": null,
      "outputs": [
        {
          "output_type": "stream",
          "name": "stdout",
          "text": [
            "1\n",
            "2\n"
          ]
        }
      ]
    },
    {
      "cell_type": "code",
      "source": [
        "#look at shape\n",
        "print(np_city.shape)\n",
        "print(np_city_with_state.shape)"
      ],
      "metadata": {
        "id": "h4MF6VRSlFeD",
        "colab": {
          "base_uri": "https://localhost:8080/"
        },
        "outputId": "d4b1c649-50cc-4a32-8756-e9f64e026018"
      },
      "execution_count": null,
      "outputs": [
        {
          "output_type": "stream",
          "name": "stdout",
          "text": [
            "(4,)\n",
            "(2, 4)\n"
          ]
        }
      ]
    },
    {
      "cell_type": "code",
      "source": [
        "#look at size\n",
        "print(np_city.size)\n",
        "print(np_city_with_state.size)"
      ],
      "metadata": {
        "id": "DSYLftIal9u1",
        "colab": {
          "base_uri": "https://localhost:8080/"
        },
        "outputId": "0a11202f-600b-42dc-92b7-ea142899d19d"
      },
      "execution_count": null,
      "outputs": [
        {
          "output_type": "stream",
          "name": "stdout",
          "text": [
            "4\n",
            "8\n"
          ]
        }
      ]
    },
    {
      "cell_type": "code",
      "source": [
        "#look at data type\n",
        "print(np_city.dtype)\n",
        "print(np_city_with_state.dtype) \n",
        "#strings with max of 7 characters"
      ],
      "metadata": {
        "id": "SsttV4mxmN_R",
        "colab": {
          "base_uri": "https://localhost:8080/"
        },
        "outputId": "b27ea42d-0ec7-4390-fa8d-5d0864914e56"
      },
      "execution_count": null,
      "outputs": [
        {
          "output_type": "stream",
          "name": "stdout",
          "text": [
            "<U7\n",
            "<U7\n"
          ]
        }
      ]
    },
    {
      "cell_type": "markdown",
      "source": [
        "#YOUR TURN 1\n",
        "\n",
        "* Create an array with one row and 10 numbers"
      ],
      "metadata": {
        "id": "k9K-Cvnm0xpW"
      }
    },
    {
      "cell_type": "code",
      "source": [
        "my_array = np.array([1,2,3,4,5,6,7,8,9,10])\n",
        "print(my_array)"
      ],
      "metadata": {
        "id": "ehWpPjqy1F7Z",
        "colab": {
          "base_uri": "https://localhost:8080/"
        },
        "outputId": "4c3dd300-7989-4d98-e342-9d878383664e"
      },
      "execution_count": null,
      "outputs": [
        {
          "output_type": "stream",
          "name": "stdout",
          "text": [
            "[ 1  2  3  4  5  6  7  8  9 10]\n"
          ]
        }
      ]
    },
    {
      "cell_type": "markdown",
      "source": [
        "* Print the dimension, shape, size and data type for your array."
      ],
      "metadata": {
        "id": "lQs76GMr1hOE"
      }
    },
    {
      "cell_type": "code",
      "source": [
        "print(my_array.ndim)\n",
        "print(my_array.shape)\n",
        "print(my_array.size)\n",
        "print(my_array.dtype)"
      ],
      "metadata": {
        "id": "Wej3MeeE1oTe",
        "colab": {
          "base_uri": "https://localhost:8080/"
        },
        "outputId": "b7abcf22-6734-4ad7-c687-b8cf031d4da2"
      },
      "execution_count": null,
      "outputs": [
        {
          "output_type": "stream",
          "name": "stdout",
          "text": [
            "1\n",
            "(10,)\n",
            "10\n",
            "int64\n"
          ]
        }
      ]
    },
    {
      "cell_type": "markdown",
      "source": [
        "* Create an array wtih two rows and three words in each row.\n"
      ],
      "metadata": {
        "id": "uSoVOK6o1K5k"
      }
    },
    {
      "cell_type": "code",
      "source": [
        "my_2d = np.array([['Hello','There', 'How'],['Are','You','Today']])"
      ],
      "metadata": {
        "id": "jt-Mzj141GZ8"
      },
      "execution_count": null,
      "outputs": []
    },
    {
      "cell_type": "markdown",
      "source": [
        "* Print the dimension, shape, size and data type for your array."
      ],
      "metadata": {
        "id": "voCpI14i1R12"
      }
    },
    {
      "cell_type": "code",
      "source": [
        "print(my_2d.ndim)\n",
        "print(my_2d.shape)\n",
        "print(my_2d.size)\n",
        "print(my_2d.dtype)\n"
      ],
      "metadata": {
        "id": "Ls2Mjjei1HYX",
        "colab": {
          "base_uri": "https://localhost:8080/"
        },
        "outputId": "f0d53786-6b70-4de4-d3fe-1011ccfb57bf"
      },
      "execution_count": null,
      "outputs": [
        {
          "output_type": "stream",
          "name": "stdout",
          "text": [
            "2\n",
            "(2, 3)\n",
            "6\n",
            "<U5\n"
          ]
        }
      ]
    },
    {
      "cell_type": "markdown",
      "source": [
        "##Basic operations on arrays\n",
        "\n"
      ],
      "metadata": {
        "id": "DpWuNWNYnkYT"
      }
    },
    {
      "cell_type": "markdown",
      "source": [
        "#### Addition\n",
        "NumPy uses the indices of the elements in each array to carry out basic operations. In this case, where we are looking at a dataset of four cyclists during two trials, vector addition of the arrays gives the required output.\n"
      ],
      "metadata": {
        "id": "WT9UcqGmn84r"
      }
    },
    {
      "cell_type": "code",
      "source": [
        "#create two listss with the cyclist distances\n",
        "\n",
        "trial_1 = [10,15,17,26] \n",
        "trial_2 = [12,11,21,24] \n",
        "\n",
        "#convert lists to numpy arrays\n",
        "\n",
        "np_trial_1 = np.array(trial_1)\n",
        "np_trial_2 = np.array(trial_2)"
      ],
      "metadata": {
        "id": "les2I0QLmzpk"
      },
      "execution_count": null,
      "outputs": []
    },
    {
      "cell_type": "code",
      "source": [
        "#use array addition to add the elements of each array\n",
        "\n",
        "np_trial_1 + np_trial_2\n"
      ],
      "metadata": {
        "id": "P4sgYjEOpeZ6",
        "colab": {
          "base_uri": "https://localhost:8080/"
        },
        "outputId": "c52f4383-dc0a-4bf1-85ab-2e0d7c479ff6"
      },
      "execution_count": null,
      "outputs": [
        {
          "output_type": "execute_result",
          "data": {
            "text/plain": [
              "array([22, 26, 38, 50])"
            ]
          },
          "metadata": {},
          "execution_count": 55
        }
      ]
    },
    {
      "cell_type": "markdown",
      "source": [
        "#YOUR TURN 2\n",
        "\n",
        "Use the provided arrays to perform simple array operations."
      ],
      "metadata": {
        "id": "gHUhXqga11qm"
      }
    },
    {
      "cell_type": "code",
      "source": [
        "#Provided arrays\n",
        "a = np.array([6,11,12,14]) \n",
        "b = np.array([24,15,7,19])"
      ],
      "metadata": {
        "id": "-tn6ZiQa3Pa5"
      },
      "execution_count": null,
      "outputs": []
    },
    {
      "cell_type": "markdown",
      "source": [
        "Array a plus array b"
      ],
      "metadata": {
        "id": "1kmtTEoz3wKU"
      }
    },
    {
      "cell_type": "code",
      "source": [
        "print(a+b)"
      ],
      "metadata": {
        "id": "mlsFX5R-3PpO",
        "colab": {
          "base_uri": "https://localhost:8080/"
        },
        "outputId": "ea671bbd-6c30-471a-cb05-183399bb3929"
      },
      "execution_count": null,
      "outputs": [
        {
          "output_type": "stream",
          "name": "stdout",
          "text": [
            "[30 26 19 33]\n"
          ]
        }
      ]
    },
    {
      "cell_type": "code",
      "source": [
        ""
      ],
      "metadata": {
        "id": "oVZbBqG7EFRc"
      },
      "execution_count": null,
      "outputs": []
    },
    {
      "cell_type": "markdown",
      "source": [
        "Array a minus array b\n",
        "and array b minus array a"
      ],
      "metadata": {
        "id": "9OfJpoLi30Dr"
      }
    },
    {
      "cell_type": "code",
      "source": [
        "print(a-b)\n",
        "print(b-a)"
      ],
      "metadata": {
        "id": "ox3vv-tE3p7t",
        "colab": {
          "base_uri": "https://localhost:8080/"
        },
        "outputId": "434459b3-5da4-4d71-877b-fb95a01b4d8b"
      },
      "execution_count": null,
      "outputs": [
        {
          "output_type": "stream",
          "name": "stdout",
          "text": [
            "[-18  -4   5  -5]\n",
            "[18  4 -5  5]\n"
          ]
        }
      ]
    },
    {
      "cell_type": "markdown",
      "source": [
        "Array a mulitplied by array b"
      ],
      "metadata": {
        "id": "Z29-xLo437MD"
      }
    },
    {
      "cell_type": "code",
      "source": [
        "print(a*b)"
      ],
      "metadata": {
        "id": "g4z5EQLW3t5-",
        "colab": {
          "base_uri": "https://localhost:8080/"
        },
        "outputId": "f6f5c185-3d98-4891-a081-789df1a2b2f0"
      },
      "execution_count": null,
      "outputs": [
        {
          "output_type": "stream",
          "name": "stdout",
          "text": [
            "[144 165  84 266]\n"
          ]
        }
      ]
    },
    {
      "cell_type": "markdown",
      "source": [
        "What do you notice about how these operations work? How does this differ from operations with python lists?"
      ],
      "metadata": {
        "id": "XZ_EhGwr4azd"
      }
    },
    {
      "cell_type": "markdown",
      "source": [
        "You can not use math operations like addition and subtraction on Python lists, however, you can with arrays."
      ],
      "metadata": {
        "id": "9F9RIuIt4pdn"
      }
    },
    {
      "cell_type": "markdown",
      "source": [
        "##Accessing elements using indexing\n",
        "\n",
        "You can access an entire row of an array by referencing its axis index. The index starts at 0\n",
        "\n",
        "> Indented block\n",
        "\n",
        "\n"
      ],
      "metadata": {
        "id": "3ltU-Einqix-"
      }
    },
    {
      "cell_type": "code",
      "source": [
        "cyclist_trials = np.array([[10,15,17,26], [12,11,21,24]]) #creates 2-d array from cyclist trial data\n",
        "\n",
        "cyclist_trials"
      ],
      "metadata": {
        "id": "xlE3kE8OqSGL",
        "colab": {
          "base_uri": "https://localhost:8080/"
        },
        "outputId": "d18359a1-f32e-4db1-f0e1-661074e19815"
      },
      "execution_count": null,
      "outputs": [
        {
          "output_type": "execute_result",
          "data": {
            "text/plain": [
              "array([[10, 15, 17, 26],\n",
              "       [12, 11, 21, 24]])"
            ]
          },
          "metadata": {},
          "execution_count": 98
        }
      ]
    },
    {
      "cell_type": "code",
      "source": [
        "#access first row\n",
        "first_trial = cyclist_trials[0]\n",
        "\n",
        "#access second row\n",
        "second_trial = cyclist_trials[1]"
      ],
      "metadata": {
        "id": "6bdB7wfrrB0u"
      },
      "execution_count": null,
      "outputs": []
    },
    {
      "cell_type": "code",
      "source": [
        "first_trial"
      ],
      "metadata": {
        "id": "p_9yQXUZrj0N",
        "colab": {
          "base_uri": "https://localhost:8080/"
        },
        "outputId": "67d930b4-b16a-447d-8c30-0255ca7beb63"
      },
      "execution_count": null,
      "outputs": [
        {
          "output_type": "execute_result",
          "data": {
            "text/plain": [
              "array([10, 15, 17, 26])"
            ]
          },
          "metadata": {},
          "execution_count": 101
        }
      ]
    },
    {
      "cell_type": "code",
      "source": [
        "second_trial"
      ],
      "metadata": {
        "id": "eGdZ8_Y9rrtf",
        "colab": {
          "base_uri": "https://localhost:8080/"
        },
        "outputId": "94795fef-c3e3-4fc3-dbe2-6f36c13aaecb"
      },
      "execution_count": null,
      "outputs": [
        {
          "output_type": "execute_result",
          "data": {
            "text/plain": [
              "array([12, 11, 21, 24])"
            ]
          },
          "metadata": {},
          "execution_count": 102
        }
      ]
    },
    {
      "cell_type": "code",
      "source": [
        "#selecting individual elements using index on two axes\n",
        "\n",
        "print(cyclist_trials[0][0]) # first row, first element\n",
        "print(cyclist_trials[1][3]) # second row, fourth element"
      ],
      "metadata": {
        "id": "lqCqkRhdr8N2",
        "colab": {
          "base_uri": "https://localhost:8080/"
        },
        "outputId": "48a96e96-b0c9-4176-bb07-d748ea4f4fbd"
      },
      "execution_count": null,
      "outputs": [
        {
          "output_type": "stream",
          "name": "stdout",
          "text": [
            "10\n",
            "24\n"
          ]
        }
      ]
    },
    {
      "cell_type": "code",
      "source": [
        "#select all rows of an array, first element of each row using :\n",
        "\n",
        "cyclist_trials[:,0]"
      ],
      "metadata": {
        "id": "14QQcijrsUtB",
        "colab": {
          "base_uri": "https://localhost:8080/"
        },
        "outputId": "f0f71e6b-d98d-43f1-9b83-82d9f9bc3552"
      },
      "execution_count": null,
      "outputs": [
        {
          "output_type": "execute_result",
          "data": {
            "text/plain": [
              "array([10, 12])"
            ]
          },
          "metadata": {},
          "execution_count": 108
        }
      ]
    },
    {
      "cell_type": "code",
      "source": [
        "#you can also use the where() function to find the index position of a value\n",
        "\n",
        "np.where(cyclist_trials == 17)"
      ],
      "metadata": {
        "id": "xSbZGpIULwMX",
        "colab": {
          "base_uri": "https://localhost:8080/"
        },
        "outputId": "69ca5383-b54d-4a2b-de25-09759bfec9d5"
      },
      "execution_count": null,
      "outputs": [
        {
          "output_type": "execute_result",
          "data": {
            "text/plain": [
              "(array([0]), array([2]))"
            ]
          },
          "metadata": {},
          "execution_count": 109
        }
      ]
    },
    {
      "cell_type": "markdown",
      "source": [
        "#YOUR TURN 3\n",
        "\n",
        "Create a new array with of integers with three rows of four elements each. Use the index to do the following:"
      ],
      "metadata": {
        "id": "RWWhVONY5FkA"
      }
    },
    {
      "cell_type": "code",
      "source": [
        "third_array = np.array([[7,9,15,21],[23,45,63,74],[16,15,29,12]])\n",
        "print(third_array)"
      ],
      "metadata": {
        "id": "wmrzXS-Z5va2",
        "colab": {
          "base_uri": "https://localhost:8080/"
        },
        "outputId": "f7cd2d13-38cd-496d-f078-4501f0249f8d"
      },
      "execution_count": null,
      "outputs": [
        {
          "output_type": "stream",
          "name": "stdout",
          "text": [
            "[[ 7  9 15 21]\n",
            " [23 45 63 74]\n",
            " [16 15 29 12]]\n"
          ]
        }
      ]
    },
    {
      "cell_type": "markdown",
      "source": [
        "* Access the first row of your array.\n"
      ],
      "metadata": {
        "id": "1hoSnQGF6KdC"
      }
    },
    {
      "cell_type": "code",
      "source": [
        "print(third_array[0,:])"
      ],
      "metadata": {
        "id": "z85zFeei5v_s",
        "colab": {
          "base_uri": "https://localhost:8080/"
        },
        "outputId": "3340bb6e-75e2-481e-ffd2-6eedf45fd859"
      },
      "execution_count": null,
      "outputs": [
        {
          "output_type": "stream",
          "name": "stdout",
          "text": [
            "[ 7  9 15 21]\n"
          ]
        }
      ]
    },
    {
      "cell_type": "markdown",
      "source": [
        "* Access the third row of your array."
      ],
      "metadata": {
        "id": "4balFmXf6QNK"
      }
    },
    {
      "cell_type": "code",
      "source": [
        "print(third_array[2,:])"
      ],
      "metadata": {
        "id": "BBF7LlYJ6UoX",
        "colab": {
          "base_uri": "https://localhost:8080/"
        },
        "outputId": "801c4611-9496-4e72-ce7d-8751ef5f3663"
      },
      "execution_count": null,
      "outputs": [
        {
          "output_type": "stream",
          "name": "stdout",
          "text": [
            "[16 15 29 12]\n"
          ]
        }
      ]
    },
    {
      "cell_type": "markdown",
      "source": [
        "* Access the second row, third element of your array."
      ],
      "metadata": {
        "id": "_zCPNfSU6Va8"
      }
    },
    {
      "cell_type": "code",
      "source": [
        "print(third_array[1,2])"
      ],
      "metadata": {
        "id": "NoVHEaGJ5wJF",
        "colab": {
          "base_uri": "https://localhost:8080/"
        },
        "outputId": "0913d50d-5049-4a12-a85d-e2cf4c924aeb"
      },
      "execution_count": null,
      "outputs": [
        {
          "output_type": "stream",
          "name": "stdout",
          "text": [
            "63\n"
          ]
        }
      ]
    },
    {
      "cell_type": "markdown",
      "source": [
        "* Access the fourth element of each row of your array."
      ],
      "metadata": {
        "id": "SC1ofAxz6ZSf"
      }
    },
    {
      "cell_type": "code",
      "source": [
        "print(third_array[:,3])"
      ],
      "metadata": {
        "id": "si-r6Hei5wS_",
        "colab": {
          "base_uri": "https://localhost:8080/"
        },
        "outputId": "9f7f257f-9826-452d-9188-ff0413b2166d"
      },
      "execution_count": null,
      "outputs": [
        {
          "output_type": "stream",
          "name": "stdout",
          "text": [
            "[21 74 12]\n"
          ]
        }
      ]
    },
    {
      "cell_type": "markdown",
      "source": [
        "##Indexing with boolean arrays"
      ],
      "metadata": {
        "id": "DSBdy15AtdTE"
      }
    },
    {
      "cell_type": "code",
      "source": [
        "test_scores = np.array([[83,71,57,63], [54,68,81,45]])\n",
        "\n",
        "test_scores"
      ],
      "metadata": {
        "id": "9ec-JVx5tgiW",
        "colab": {
          "base_uri": "https://localhost:8080/"
        },
        "outputId": "ffad21ed-477c-47b2-c0fd-9f31d5843495"
      },
      "execution_count": null,
      "outputs": [
        {
          "output_type": "execute_result",
          "data": {
            "text/plain": [
              "array([[83, 71, 57, 63],\n",
              "       [54, 68, 81, 45]])"
            ]
          },
          "metadata": {},
          "execution_count": 119
        }
      ]
    },
    {
      "cell_type": "code",
      "source": [
        "passing_score = test_scores > 60"
      ],
      "metadata": {
        "id": "w-tjIRnOt8DU"
      },
      "execution_count": null,
      "outputs": []
    },
    {
      "cell_type": "code",
      "source": [
        "passing_score"
      ],
      "metadata": {
        "id": "nSYR6lJluD7i",
        "colab": {
          "base_uri": "https://localhost:8080/"
        },
        "outputId": "9e3e6c7e-7709-4d87-fe4c-d128e91daca0"
      },
      "execution_count": null,
      "outputs": [
        {
          "output_type": "execute_result",
          "data": {
            "text/plain": [
              "array([[ True,  True, False,  True],\n",
              "       [False,  True,  True, False]])"
            ]
          },
          "metadata": {},
          "execution_count": 121
        }
      ]
    },
    {
      "cell_type": "code",
      "source": [
        "test_scores[passing_score]"
      ],
      "metadata": {
        "id": "GLXIUAatuIS8",
        "colab": {
          "base_uri": "https://localhost:8080/"
        },
        "outputId": "446ca963-0202-42e3-ded3-604ffd02ef3a"
      },
      "execution_count": null,
      "outputs": [
        {
          "output_type": "execute_result",
          "data": {
            "text/plain": [
              "array([83, 71, 63, 68, 81])"
            ]
          },
          "metadata": {},
          "execution_count": 122
        }
      ]
    },
    {
      "cell_type": "markdown",
      "source": [
        "##Copies and views\n",
        "\n",
        "When working with arrays, you can assign an array as the same values, view a copy or make a copy. "
      ],
      "metadata": {
        "id": "fC4v3O7nwJjq"
      }
    },
    {
      "cell_type": "markdown",
      "source": [
        "Simple asignment does not create a copy"
      ],
      "metadata": {
        "id": "AMrcD-v6y1uN"
      }
    },
    {
      "cell_type": "code",
      "source": [
        "## new array with boroughs of nyc\n",
        "\n",
        "nyc_borough = np.array(['manhattan', 'bronx', 'brooklyn', 'staten island', 'queens'])\n",
        "           \n",
        "new_nyc_borough = nyc_borough # no new object is created\n",
        "new_nyc_borough is nyc_borough  # these are now two names for the same ndarray object"
      ],
      "metadata": {
        "id": "BGK8b8H_wrRh",
        "colab": {
          "base_uri": "https://localhost:8080/"
        },
        "outputId": "0bca8374-fcf5-447f-dfef-fdf3f8740d4c"
      },
      "execution_count": null,
      "outputs": [
        {
          "output_type": "execute_result",
          "data": {
            "text/plain": [
              "True"
            ]
          },
          "metadata": {},
          "execution_count": 123
        }
      ]
    },
    {
      "cell_type": "code",
      "source": [
        "#if you change one of them you change both\n",
        "\n",
        "nyc_borough[4] = 'central park'\n",
        "\n",
        "print(nyc_borough)\n",
        "print(new_nyc_borough)"
      ],
      "metadata": {
        "id": "ry2yVW3ux3tU",
        "colab": {
          "base_uri": "https://localhost:8080/"
        },
        "outputId": "ac2c3960-0375-40d4-fa37-e384b215b750"
      },
      "execution_count": null,
      "outputs": [
        {
          "output_type": "stream",
          "name": "stdout",
          "text": [
            "['manhattan' 'bronx' 'brooklyn' 'staten island' 'central park']\n",
            "['manhattan' 'bronx' 'brooklyn' 'staten island' 'central park']\n"
          ]
        }
      ]
    },
    {
      "cell_type": "code",
      "source": [
        "#reset the array to original\n",
        "nyc_borough = np.array(['manhattan', 'bronx', 'brooklyn', 'staten island', 'queens'])\n"
      ],
      "metadata": {
        "id": "IT89-nQMyI9u"
      },
      "execution_count": null,
      "outputs": []
    },
    {
      "cell_type": "markdown",
      "source": [
        ".view() creates a \"shallow copy,\" or a new array object with the same data. Making changes to either the original or new will also make changes in the other one.\n"
      ],
      "metadata": {
        "id": "AvD6o__CzBY5"
      }
    },
    {
      "cell_type": "code",
      "source": [
        "view_of_nyc_borough = nyc_borough.view() #use .view() function to create a new array\n",
        "\n",
        "view_of_nyc_borough\n"
      ],
      "metadata": {
        "id": "x-jgGPdzxBOC",
        "colab": {
          "base_uri": "https://localhost:8080/"
        },
        "outputId": "aaaed75c-39db-4625-f714-3b441724d3ef"
      },
      "execution_count": null,
      "outputs": [
        {
          "output_type": "execute_result",
          "data": {
            "text/plain": [
              "array(['manhattan', 'bronx', 'brooklyn', 'staten island', 'queens'],\n",
              "      dtype='<U13')"
            ]
          },
          "metadata": {},
          "execution_count": 128
        }
      ]
    },
    {
      "cell_type": "code",
      "source": [
        "#when you change the view, you change the original\n",
        "\n",
        "view_of_nyc_borough[4] = 'central park'\n",
        "\n",
        "print(nyc_borough) #print original\n",
        "print(view_of_nyc_borough) #print view\n"
      ],
      "metadata": {
        "id": "dWoDQaQXzOde",
        "colab": {
          "base_uri": "https://localhost:8080/"
        },
        "outputId": "109b3bba-2d84-43fa-f575-02f915ac8c8f"
      },
      "execution_count": null,
      "outputs": [
        {
          "output_type": "stream",
          "name": "stdout",
          "text": [
            "['manhattan' 'bronx' 'brooklyn' 'staten island' 'central park']\n",
            "['manhattan' 'bronx' 'brooklyn' 'staten island' 'central park']\n"
          ]
        }
      ]
    },
    {
      "cell_type": "code",
      "source": [
        "#or when you change the original you change the view\n",
        "\n",
        "nyc_borough[3] = 'si'\n",
        "\n",
        "print(nyc_borough) #print original\n",
        "print(view_of_nyc_borough) #print view"
      ],
      "metadata": {
        "id": "RWQ4SUPDzRe6",
        "colab": {
          "base_uri": "https://localhost:8080/"
        },
        "outputId": "f261724f-0c36-410a-9495-155cb4cb353b"
      },
      "execution_count": null,
      "outputs": [
        {
          "output_type": "stream",
          "name": "stdout",
          "text": [
            "['manhattan' 'bronx' 'brooklyn' 'si' 'central park']\n",
            "['manhattan' 'bronx' 'brooklyn' 'si' 'central park']\n"
          ]
        }
      ]
    },
    {
      "cell_type": "code",
      "source": [
        "#reset array to the original \n",
        "\n",
        "nyc_borough = np.array(['manhattan', 'bronx', 'brooklyn', 'staten island', 'queens'])\n"
      ],
      "metadata": {
        "id": "yw7bUFT49Yzj"
      },
      "execution_count": null,
      "outputs": []
    },
    {
      "cell_type": "markdown",
      "source": [
        ".copy() creates a \"deep copy\" or a whole new copy of the data and changes to one copy do not affect the other"
      ],
      "metadata": {
        "id": "rSg1p-hC0IhU"
      }
    },
    {
      "cell_type": "code",
      "source": [
        "#create a copy\n",
        "\n",
        "copy_of_nyc_borough = nyc_borough.copy() \n"
      ],
      "metadata": {
        "id": "6uhah2FQ9Xp6"
      },
      "execution_count": null,
      "outputs": []
    },
    {
      "cell_type": "code",
      "source": [
        "#change the copy\n",
        "\n",
        "copy_of_nyc_borough[4] = 'central park'"
      ],
      "metadata": {
        "id": "qxQFA_kw9yDh"
      },
      "execution_count": null,
      "outputs": []
    },
    {
      "cell_type": "code",
      "source": [
        "#the copy has changed but the original remains the same\n",
        "\n",
        "print(nyc_borough) #print original\n",
        "print(copy_of_nyc_borough) #print copy"
      ],
      "metadata": {
        "id": "77R_fNif9-Sn",
        "colab": {
          "base_uri": "https://localhost:8080/"
        },
        "outputId": "24c1b149-797f-46d1-c689-72f23e9fea84"
      },
      "execution_count": null,
      "outputs": [
        {
          "output_type": "stream",
          "name": "stdout",
          "text": [
            "['manhattan' 'bronx' 'brooklyn' 'staten island' 'queens']\n",
            "['manhattan' 'bronx' 'brooklyn' 'staten island' 'central park']\n"
          ]
        }
      ]
    },
    {
      "cell_type": "markdown",
      "source": [
        "#YOUR TURN 4\n",
        "\n",
        "Create a new array with five text values of your favorite colors. "
      ],
      "metadata": {
        "id": "BIz-WprtD88z"
      }
    },
    {
      "cell_type": "code",
      "source": [
        "my_colors =np.array(['blue','green','purple','yellow','orange'])"
      ],
      "metadata": {
        "id": "P_BBFY5KEJWw"
      },
      "execution_count": null,
      "outputs": []
    },
    {
      "cell_type": "markdown",
      "source": [
        "* Make a new variable and assign it the value of your original array (simple assignment). Change the second value of the array using the new name. Print the old and new names of the array and see what happened.\n"
      ],
      "metadata": {
        "id": "d8JAsR5LEKwb"
      }
    },
    {
      "cell_type": "code",
      "source": [
        "new_colors = my_colors\n",
        "new_colors is my_colors"
      ],
      "metadata": {
        "id": "M_v8wE4-ESNa",
        "colab": {
          "base_uri": "https://localhost:8080/"
        },
        "outputId": "755b24d5-dee7-4a3f-974a-d1e600ae6fda"
      },
      "execution_count": 136,
      "outputs": [
        {
          "output_type": "execute_result",
          "data": {
            "text/plain": [
              "True"
            ]
          },
          "metadata": {},
          "execution_count": 136
        }
      ]
    },
    {
      "cell_type": "code",
      "source": [
        "new_colors[1] = 'velvet'\n",
        "print(new_colors)\n",
        "print(my_colors)"
      ],
      "metadata": {
        "id": "IVsrBZuLEdxk",
        "colab": {
          "base_uri": "https://localhost:8080/"
        },
        "outputId": "8cc107a5-8d25-4b79-80de-4c025f27c813"
      },
      "execution_count": 137,
      "outputs": [
        {
          "output_type": "stream",
          "name": "stdout",
          "text": [
            "['blue' 'velvet' 'purple' 'yellow' 'orange']\n",
            "['blue' 'velvet' 'purple' 'yellow' 'orange']\n"
          ]
        }
      ]
    },
    {
      "cell_type": "markdown",
      "source": [
        "* Create a view of the original array. Change the second value of the array using the view. Print the old and new names of the array and see what happened."
      ],
      "metadata": {
        "id": "4d4zdLEpEeQS"
      }
    },
    {
      "cell_type": "code",
      "source": [
        "view_colors = my_colors.view()\n",
        "my_colors[1] = 'green'\n",
        "print(my_colors)\n",
        "print(view_colors)"
      ],
      "metadata": {
        "id": "KkqJFoUjEewV",
        "colab": {
          "base_uri": "https://localhost:8080/"
        },
        "outputId": "8ec5297c-2028-42dd-e800-2d2a5a0cd92e"
      },
      "execution_count": 143,
      "outputs": [
        {
          "output_type": "stream",
          "name": "stdout",
          "text": [
            "['blue' 'green' 'purple' 'yellow' 'orange']\n",
            "['blue' 'green' 'purple' 'yellow' 'orange']\n"
          ]
        }
      ]
    },
    {
      "cell_type": "markdown",
      "source": [
        "* Create a copy of the original array. Change the second value of the array using the view. Print the old and new names of the array and see what happened.\n"
      ],
      "metadata": {
        "id": "v3so_s7tEe6D"
      }
    },
    {
      "cell_type": "code",
      "source": [
        "copy_colors = my_colors.copy()\n",
        "my_colors[1] = 'velvet'\n",
        "copy_colors[1] = 'magenta'\n",
        "print(my_colors)\n",
        "print(copy_colors)"
      ],
      "metadata": {
        "id": "lAMZYKrTEumh",
        "colab": {
          "base_uri": "https://localhost:8080/"
        },
        "outputId": "7e0d82e5-4bf6-4897-babc-86f8f42a1a0b"
      },
      "execution_count": 141,
      "outputs": [
        {
          "output_type": "stream",
          "name": "stdout",
          "text": [
            "['blue' 'velvet' 'purple' 'yellow' 'orange']\n",
            "['blue' 'magent' 'purple' 'yellow' 'orange']\n"
          ]
        }
      ]
    },
    {
      "cell_type": "markdown",
      "source": [
        "#Universal functions\n",
        "\n",
        "NumPy provides useful mathematical functions called Universal Functions. These functions operate element-wise on an array, producing another array as output. "
      ],
      "metadata": {
        "id": "DSF-1Rod_biB"
      }
    },
    {
      "cell_type": "code",
      "source": [
        "#create some new arrays to work with our functions\n",
        "\n",
        "a = np.array([2,4,9,16,25])\n",
        "b = np.array([1.3, 2.5, 3.7, 7.19, -1.1, -2.8])"
      ],
      "metadata": {
        "id": "Vhm_CQx1_zbq"
      },
      "execution_count": 148,
      "outputs": []
    },
    {
      "cell_type": "code",
      "source": [
        "#Find the square root of each element in the array\n",
        "\n",
        "np.sqrt(a)\n"
      ],
      "metadata": {
        "id": "t0GMmkFi_lFL",
        "colab": {
          "base_uri": "https://localhost:8080/"
        },
        "outputId": "6f132633-f779-4891-e481-1e7d7b790471"
      },
      "execution_count": 149,
      "outputs": [
        {
          "output_type": "execute_result",
          "data": {
            "text/plain": [
              "array([1.41421356, 2.        , 3.        , 4.        , 5.        ])"
            ]
          },
          "metadata": {},
          "execution_count": 149
        }
      ]
    },
    {
      "cell_type": "code",
      "source": [
        "#find the floor (largest integer) for each element in the array\n",
        "\n",
        "np.floor(b)"
      ],
      "metadata": {
        "id": "iPFOhToxAie4",
        "colab": {
          "base_uri": "https://localhost:8080/"
        },
        "outputId": "d3f1919e-cb4b-4249-9a0a-faa591c33bd2"
      },
      "execution_count": 150,
      "outputs": [
        {
          "output_type": "execute_result",
          "data": {
            "text/plain": [
              "array([ 1.,  2.,  3.,  7., -2., -3.])"
            ]
          },
          "metadata": {},
          "execution_count": 150
        }
      ]
    },
    {
      "cell_type": "code",
      "source": [
        "#you can even do trig!\n",
        "\n",
        "print(np.cos(0))\n",
        "print(np.sin(1))\n"
      ],
      "metadata": {
        "id": "cJUnTbq9BQM0",
        "colab": {
          "base_uri": "https://localhost:8080/"
        },
        "outputId": "e0f44a84-8ee6-4441-c162-d9fe7352c684"
      },
      "execution_count": 151,
      "outputs": [
        {
          "output_type": "stream",
          "name": "stdout",
          "text": [
            "1.0\n",
            "0.8414709848078965\n"
          ]
        }
      ]
    },
    {
      "cell_type": "code",
      "source": [
        "from numpy import pi \n",
        "\n",
        "np.sin(pi/2)"
      ],
      "metadata": {
        "id": "VnNQXqIYBkJ-",
        "colab": {
          "base_uri": "https://localhost:8080/"
        },
        "outputId": "4aec7e37-4afb-4cdc-8d4d-e620c5f06489"
      },
      "execution_count": 152,
      "outputs": [
        {
          "output_type": "execute_result",
          "data": {
            "text/plain": [
              "1.0"
            ]
          },
          "metadata": {},
          "execution_count": 152
        }
      ]
    },
    {
      "cell_type": "markdown",
      "source": [
        "#Broadcasting\n",
        "\n",
        "NumPy uses broadcasting to carry out arithmetic operations between arrays of different shapes. In this method, NumPy automatically broadcasts the smaller array over the larger array. "
      ],
      "metadata": {
        "id": "GFZHrCgxCo6c"
      }
    },
    {
      "cell_type": "code",
      "source": [
        "#create two arrays of the same size\n",
        "\n",
        "array_a = np.array([2,3,5,8])\n",
        "array_b = np.array([.3,.3,.3,.3])"
      ],
      "metadata": {
        "id": "4VZ2DRdlBnLc"
      },
      "execution_count": 153,
      "outputs": []
    },
    {
      "cell_type": "code",
      "source": [
        "#multiply the arrays. because they are the same size, this is element-wise operation\n",
        "\n",
        "array_a * array_b"
      ],
      "metadata": {
        "id": "6br_K0XTDG3Q",
        "colab": {
          "base_uri": "https://localhost:8080/"
        },
        "outputId": "fdbc9f2b-3b2b-45f0-bc10-531e14b62a1d"
      },
      "execution_count": 154,
      "outputs": [
        {
          "output_type": "execute_result",
          "data": {
            "text/plain": [
              "array([0.6, 0.9, 1.5, 2.4])"
            ]
          },
          "metadata": {},
          "execution_count": 154
        }
      ]
    },
    {
      "cell_type": "code",
      "source": [
        "#create a scalar value (not an array)\n",
        "\n",
        "scalar_c = .3"
      ],
      "metadata": {
        "id": "6Yy_JH4oDQRQ"
      },
      "execution_count": 155,
      "outputs": []
    },
    {
      "cell_type": "code",
      "source": [
        "#multiply array_a by the scalar \n",
        "#the scalar will be 'broadcast' across the array\n",
        "\n",
        "array_a * scalar_c"
      ],
      "metadata": {
        "id": "YMbLFHjLDXyC",
        "colab": {
          "base_uri": "https://localhost:8080/"
        },
        "outputId": "077da567-b8d7-4b8f-ecf0-22a4d6afd06b"
      },
      "execution_count": 156,
      "outputs": [
        {
          "output_type": "execute_result",
          "data": {
            "text/plain": [
              "array([0.6, 0.9, 1.5, 2.4])"
            ]
          },
          "metadata": {},
          "execution_count": 156
        }
      ]
    },
    {
      "cell_type": "markdown",
      "source": [
        "#Linear algebra"
      ],
      "metadata": {
        "id": "XLZVR7d2Do_N"
      }
    },
    {
      "cell_type": "markdown",
      "source": [
        "####Transpose\n",
        "\n",
        "NumPy can carry out linear algebraic functions as well. The “transpose()” function can help you interchange rows as columns, and vice-versa.\n"
      ],
      "metadata": {
        "id": "7eh-YTI8Dros"
      }
    },
    {
      "cell_type": "code",
      "source": [
        "test_scores = np.array([[83,71,57,63], [54,68,81,45]])\n",
        "\n",
        "test_scores"
      ],
      "metadata": {
        "id": "fPUIMq8rDvkG",
        "colab": {
          "base_uri": "https://localhost:8080/"
        },
        "outputId": "35253c4e-2306-48c8-8e57-507fdcfe368c"
      },
      "execution_count": 157,
      "outputs": [
        {
          "output_type": "execute_result",
          "data": {
            "text/plain": [
              "array([[83, 71, 57, 63],\n",
              "       [54, 68, 81, 45]])"
            ]
          },
          "metadata": {},
          "execution_count": 157
        }
      ]
    },
    {
      "cell_type": "code",
      "source": [
        "test_scores.transpose()"
      ],
      "metadata": {
        "id": "sV6vA077Food",
        "colab": {
          "base_uri": "https://localhost:8080/"
        },
        "outputId": "c8d1fbff-17a6-4e2f-8fe1-731d12b962b4"
      },
      "execution_count": 158,
      "outputs": [
        {
          "output_type": "execute_result",
          "data": {
            "text/plain": [
              "array([[83, 54],\n",
              "       [71, 68],\n",
              "       [57, 81],\n",
              "       [63, 45]])"
            ]
          },
          "metadata": {},
          "execution_count": 158
        }
      ]
    }
  ]
}