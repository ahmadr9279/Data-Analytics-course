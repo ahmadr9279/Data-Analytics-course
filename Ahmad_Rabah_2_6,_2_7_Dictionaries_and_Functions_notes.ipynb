{
  "nbformat": 4,
  "nbformat_minor": 0,
  "metadata": {
    "colab": {
      "name": "Ahmad Rabah 2-6, 2-7 Dictionaries and Functions notes.ipynb",
      "provenance": [],
      "authorship_tag": "ABX9TyNRgOS8+zjIhQjdENA8S7sG",
      "include_colab_link": true
    },
    "kernelspec": {
      "name": "python3",
      "display_name": "Python 3"
    },
    "language_info": {
      "name": "python"
    }
  },
  "cells": [
    {
      "cell_type": "markdown",
      "metadata": {
        "id": "view-in-github",
        "colab_type": "text"
      },
      "source": [
        "<a href=\"https://colab.research.google.com/github/ahmadr9279/Data-Analytics-course/blob/main/Ahmad_Rabah_2_6%2C_2_7_Dictionaries_and_Functions_notes.ipynb\" target=\"_parent\"><img src=\"https://colab.research.google.com/assets/colab-badge.svg\" alt=\"Open In Colab\"/></a>"
      ]
    },
    {
      "cell_type": "markdown",
      "source": [
        "Dictionaries"
      ],
      "metadata": {
        "id": "jUZ3pywVNRkw"
      }
    },
    {
      "cell_type": "code",
      "source": [
        "patient_1 = {'firstname':'John','lastname':'Smith'}"
      ],
      "metadata": {
        "id": "YeAORHBENWjf"
      },
      "execution_count": null,
      "outputs": []
    },
    {
      "cell_type": "code",
      "source": [
        "print(patient_1['firstname'])\n",
        "print(patient_1['lastname'])\n",
        "patient_1['last_exam'] = 'echo'\n",
        "print(patient_1['last_exam'])"
      ],
      "metadata": {
        "colab": {
          "base_uri": "https://localhost:8080/"
        },
        "id": "tffIF1OwNene",
        "outputId": "2ba56ef2-44a0-4e64-c5ad-00cecbf84034"
      },
      "execution_count": null,
      "outputs": [
        {
          "output_type": "stream",
          "name": "stdout",
          "text": [
            "John\n",
            "Smith\n",
            "echo\n"
          ]
        }
      ]
    },
    {
      "cell_type": "code",
      "source": [
        "patient_name = patient_1['firstname']\n",
        "print('Hello '+patient_name)"
      ],
      "metadata": {
        "colab": {
          "base_uri": "https://localhost:8080/"
        },
        "id": "TWw8oXtIN4bD",
        "outputId": "d6a30960-fecd-430b-942f-627ccc6f1d4b"
      },
      "execution_count": null,
      "outputs": [
        {
          "output_type": "stream",
          "name": "stdout",
          "text": [
            "Hello John\n"
          ]
        }
      ]
    },
    {
      "cell_type": "code",
      "source": [
        "patient_2 = {}\n",
        "\n",
        "patient_2['first_name'] = 'blah'\n",
        "patient_2['last_name'] = 'bla'\n",
        "print(patient_2)\n",
        "del patient_2['first_name']\n",
        "print(patient_2)"
      ],
      "metadata": {
        "colab": {
          "base_uri": "https://localhost:8080/"
        },
        "id": "lxKmp8ypOn0b",
        "outputId": "0f2cbcd2-a7ed-4562-9690-c0df60c94416"
      },
      "execution_count": null,
      "outputs": [
        {
          "output_type": "stream",
          "name": "stdout",
          "text": [
            "{'first_name': 'blah', 'last_name': 'bla'}\n",
            "{'last_name': 'bla'}\n"
          ]
        }
      ]
    },
    {
      "cell_type": "code",
      "source": [
        "patient_3 = {\n",
        "    'first_name': 'bugs',\n",
        "    'last_name': 'bunny',\n",
        "    'mrn': '00000000',\n",
        "    'dob': '06251956'\n",
        "}\n",
        "print(patient_3)"
      ],
      "metadata": {
        "colab": {
          "base_uri": "https://localhost:8080/"
        },
        "id": "9j8IgCoER-K0",
        "outputId": "cbffa1d5-624d-45d0-df37-b94218c95a6b"
      },
      "execution_count": null,
      "outputs": [
        {
          "output_type": "stream",
          "name": "stdout",
          "text": [
            "{'first_name': 'bugs', 'last_name': 'bunny', 'mrn': '00000000', 'dob': '06251956'}\n"
          ]
        }
      ]
    },
    {
      "cell_type": "code",
      "source": [
        "person = {'first name':'Benjamin', 'last_name': 'Franklin', 'age': '21', 'city': 'philadelphia', 'fact': 'he\\'s on the $100 bill'}\n",
        "print(person)"
      ],
      "metadata": {
        "colab": {
          "base_uri": "https://localhost:8080/"
        },
        "id": "-cuzkf3bTiza",
        "outputId": "d658db60-3c83-4c35-e40f-8a874dd73263"
      },
      "execution_count": null,
      "outputs": [
        {
          "output_type": "stream",
          "name": "stdout",
          "text": [
            "{'first name': 'Benjamin', 'last_name': 'Franklin', 'age': '21', 'city': 'philadelphia', 'fact': \"he's on the $100 bill\"}\n"
          ]
        }
      ]
    },
    {
      "cell_type": "code",
      "source": [
        "friends = {'tommy':'15',\n",
        "           'bobby': '21',\n",
        "           'timmy': '17',\n",
        "           'billy': '19',\n",
        "           'bob': '18'}\n",
        "print(friends)"
      ],
      "metadata": {
        "colab": {
          "base_uri": "https://localhost:8080/"
        },
        "id": "NU5_fqDxUcwf",
        "outputId": "71e6eb0c-fdde-41b8-a1d6-3bd14aeaffa3"
      },
      "execution_count": null,
      "outputs": [
        {
          "output_type": "stream",
          "name": "stdout",
          "text": [
            "{'tommy': '15', 'bobby': '21', 'timmy': '17', 'billy': '19', 'bob': '18'}\n"
          ]
        }
      ]
    },
    {
      "cell_type": "code",
      "source": [
        "vocab_words = {'list':'holds multiple values','boolean':'a true or false statement', 'float': 'a number that has a decimal'}\n",
        "print(vocab_words)"
      ],
      "metadata": {
        "colab": {
          "base_uri": "https://localhost:8080/"
        },
        "id": "j43KFJdAVawT",
        "outputId": "f6a9beaf-d49e-4125-c242-644d5330ecf5"
      },
      "execution_count": null,
      "outputs": [
        {
          "output_type": "stream",
          "name": "stdout",
          "text": [
            "{'list': 'holds multiple values', 'boolean': 'a true or false statement', 'float': 'a number that has a decimal'}\n"
          ]
        }
      ]
    },
    {
      "cell_type": "code",
      "source": [
        "for key, value in friends.items():\n",
        "  print(key.title()+':'+ value)"
      ],
      "metadata": {
        "colab": {
          "base_uri": "https://localhost:8080/"
        },
        "id": "Pq9qecdGfQmM",
        "outputId": "44411f50-b7d2-471d-9947-5a2ab6a80e82"
      },
      "execution_count": null,
      "outputs": [
        {
          "output_type": "stream",
          "name": "stdout",
          "text": [
            "Tommy:15\n",
            "Bobby:21\n",
            "Timmy:17\n",
            "Billy:19\n",
            "Bob:18\n"
          ]
        }
      ]
    },
    {
      "cell_type": "code",
      "source": [
        "num = 1\n",
        "\n",
        "while num <=5:\n",
        "  print(num)\n",
        "  num +=1"
      ],
      "metadata": {
        "colab": {
          "base_uri": "https://localhost:8080/"
        },
        "id": "56F985n8g-Te",
        "outputId": "24e9897a-507f-4a86-b664-43042b58cede"
      },
      "execution_count": null,
      "outputs": [
        {
          "output_type": "stream",
          "name": "stdout",
          "text": [
            "1\n",
            "2\n",
            "3\n",
            "4\n",
            "5\n"
          ]
        }
      ]
    },
    {
      "cell_type": "code",
      "source": [
        "prompt = 'Input a message. I will repeat it until you type quit'\n",
        "message = ''\n",
        "\n",
        "while message != 'quit':\n",
        "  message = input(prompt)\n",
        "  print(message)"
      ],
      "metadata": {
        "colab": {
          "base_uri": "https://localhost:8080/"
        },
        "id": "Ho1oe_gMjMHp",
        "outputId": "01be68ff-6dbc-44e8-a5a2-1f31b0f9faab"
      },
      "execution_count": null,
      "outputs": [
        {
          "output_type": "stream",
          "name": "stdout",
          "text": [
            "Input a message. I will repeat it until you type quithi\n",
            "hi\n",
            "Input a message. I will repeat it until you type quithi\n",
            "hi\n",
            "Input a message. I will repeat it until you type quitno\n",
            "no\n",
            "Input a message. I will repeat it until you type quitquit\n",
            "quit\n"
          ]
        }
      ]
    },
    {
      "cell_type": "code",
      "source": [
        "active = True\n",
        "\n",
        "while active:\n",
        "  message = input(prompt)\n",
        "  if message == 'quit':\n",
        "    active = False\n",
        "  else:\n",
        "    print(message)"
      ],
      "metadata": {
        "colab": {
          "base_uri": "https://localhost:8080/"
        },
        "id": "YsdCpiu4llBG",
        "outputId": "468d8692-efcd-4621-9989-021d2b6b3bb5"
      },
      "execution_count": null,
      "outputs": [
        {
          "name": "stdout",
          "output_type": "stream",
          "text": [
            "Input a message. I will repeat it until you type quitmo\n",
            "mo\n",
            "Input a message. I will repeat it until you type quitquit\n"
          ]
        }
      ]
    },
    {
      "cell_type": "code",
      "source": [
        "def greeting(name):\n",
        "  ''' this is a function '''\n",
        "  print('Hello there, '+name+'!')\n",
        "greeting('Ahmad')"
      ],
      "metadata": {
        "colab": {
          "base_uri": "https://localhost:8080/"
        },
        "id": "tfL_IcaF5LS9",
        "outputId": "beef39ec-1e1a-43be-83ad-bb57e7abe9d0"
      },
      "execution_count": null,
      "outputs": [
        {
          "output_type": "stream",
          "name": "stdout",
          "text": [
            "Hello there, Ahmad!\n"
          ]
        }
      ]
    },
    {
      "cell_type": "code",
      "source": [
        "def your_age(age):\n",
        "  print('Your age is '+ str(age)+'!')\n",
        "\n",
        "your_age(15)\n"
      ],
      "metadata": {
        "colab": {
          "base_uri": "https://localhost:8080/"
        },
        "id": "koAF2fcm7PLy",
        "outputId": "da23440e-e8ea-4675-9e3c-250b795f7849"
      },
      "execution_count": null,
      "outputs": [
        {
          "output_type": "stream",
          "name": "stdout",
          "text": [
            "Your age is 15!\n"
          ]
        }
      ]
    },
    {
      "cell_type": "code",
      "source": [
        "def origin(city, country='united states'):\n",
        "  print('You are from '+city.title()+', '+country.title())\n",
        "\n",
        "origin('new york','united states')\n",
        "origin('albany', 'united states')\n",
        "origin('london','the united kingdom')"
      ],
      "metadata": {
        "colab": {
          "base_uri": "https://localhost:8080/"
        },
        "id": "mqZg1TSMB4S4",
        "outputId": "18c4cc5c-6b0d-4a7b-8e96-574400e2a49e"
      },
      "execution_count": null,
      "outputs": [
        {
          "output_type": "stream",
          "name": "stdout",
          "text": [
            "You are from New York, United States\n",
            "You are from Albany, United States\n",
            "You are from London, The United Kingdom\n"
          ]
        }
      ]
    }
  ]
}